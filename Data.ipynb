{
    "cells": [
        {
            "cell_type": "markdown",
            "metadata": {
                "collapsed": true
            },
            "source": "# Geospatial Study of COVID-19 vis-\u00e0-vis Medical Care in India"
        },
        {
            "cell_type": "markdown",
            "metadata": {},
            "source": "## 1. Introduction"
        },
        {
            "cell_type": "markdown",
            "metadata": {},
            "source": "With COVID-19 taking over as a global pandemic, it is imperative to study the healthcare facilities in every country, state and district to ensure that proper care reaches every person. India is the second most populous country of the world. According to the 2019 revision of the World Population Prospects, India's population has crossed 1.3 billion.\n\nThis population is spread out in 29 states and 7 union territories. Healthcare is a state subject, which means that states are free to cater to their people\u2019s needs as they see fit, on a case-by-case basis. Since Independence, India has, quite rightly, focused attention on the larger picture. The priority in a developing country would be the provision of primary care at the peripheral level, preventive measures, immunisation, maternity and paediatric care as well as dealing with common infections such as tuberculosis. Public health centres and community health centres are the usual providers of these services. However, not enough hospital beds and specialised facilities have been provided by the public sector during this time.\n\nHospital-population ratio and the hospital bed-population ratio are good metrics indicating healthcare infrastructure. The World Health Organization provides the rationale behind the hospital beds to population ratio: \u201cHospital beds are used to indicate the availability of inpatient services. There is no global norm for the density of hospital beds in relation to total population\u201d. As there is no global norm to follow, every country, state and district must build the necessary infrastructure on a case-by-case basis, based on metrics like population, last mile reach. Also apparent is the disparateness between rural hospitals/beds and urban hospitals/beds vis-\u00e0-vis the population. All this results in a mixed level of public health service in India.\n\nOn 30 January, WHO declared COVID-19 a Public Health Emergency of International Concern (PHEIC). This has added to the woes of the people. Finding the ratio of population to the number of testing centres will aid in understanding how equipped states are dealing with the COVID-19 crisis.\n\n### 1.1 Aim\n\nPublic health infrastructure of a country must be equipped to treat its people. This project aims to visualize healthcare infrastructure data to show why it is necessary to increase expenditure and efforts to overhaul the public healthcare in India. Furthermore, exploring the hospitals and labs in the state containing the highest number of COVID-19 cases can give an illustrative idea of the healthcare infrastructure using the mentioned metrics to understand why expenditure on public health infrastructure is imperative at this juncture."
        },
        {
            "cell_type": "markdown",
            "metadata": {},
            "source": "## 2. Stakeholders"
        },
        {
            "cell_type": "markdown",
            "metadata": {},
            "source": "In general, each and every one of us is a stakeholder in a discussion on healthcare. However, to be more specific, such analysis and visualizations can help administrators and law-makers explore options on how to make healthcare available and affordable to everyone at the national, state and district levels."
        },
        {
            "cell_type": "markdown",
            "metadata": {},
            "source": "## 3. Data"
        },
        {
            "cell_type": "markdown",
            "metadata": {},
            "source": "The data to be used is summarised below:\n1.\tStatewise COVID-19 data is available at the Ministry of Health and Family Welfare website rendered into a csv file. It is a public dataset available to all.\n2.\tCensus data, nation-wide hospital data and ICMR (Indian Council of Medical Research) labs are available from Kaggle. These are also public datasets as indicated by the creator. These datasets will be primarily used to visualize the status of healthcare infrastructure in India.\n3.\tPincode data with corresponding latitude and longitude is available from Kaggle. It is required to create a database of ICMR labs with respect to their locations. This is also a public dataset.\n4.\tFoursquare API can be leveraged to get a closer look at hospitals within the state containing highest number of COVID19 cases."
        },
        {
            "cell_type": "code",
            "execution_count": null,
            "metadata": {},
            "outputs": [],
            "source": ""
        }
    ],
    "metadata": {
        "kernelspec": {
            "display_name": "Python 3.6",
            "language": "python",
            "name": "python3"
        },
        "language_info": {
            "codemirror_mode": {
                "name": "ipython",
                "version": 3
            },
            "file_extension": ".py",
            "mimetype": "text/x-python",
            "name": "python",
            "nbconvert_exporter": "python",
            "pygments_lexer": "ipython3",
            "version": "3.6.9"
        }
    },
    "nbformat": 4,
    "nbformat_minor": 1
}