{
    "cells": [
        {
            "cell_type": "markdown",
            "metadata": {
                "collapsed": true
            },
            "source": "# Geospatial Study of COVID-19 vis-\u00e0-vis Medical Care in India"
        },
        {
            "cell_type": "markdown",
            "metadata": {},
            "source": "### By Amrita Iyer"
        },
        {
            "cell_type": "markdown",
            "metadata": {},
            "source": "## 1. Introduction"
        },
        {
            "cell_type": "markdown",
            "metadata": {},
            "source": "On 30 January, WHO declared COVID-19 a Public Health Emergency of International Concern (PHEIC). India is the second most populous country of the world. According to the 2019 revision of the World Population Prospects, India's population has crossed 1.3 billion.\n\nThis population is spread out in 29 states and 7 union territories. Healthcare is a state subject, which means that states are free to cater to their people\u2019s needs as they see fit, on a case-by-case basis. Since Independence, India has focused on the larger picture. The priority in a developing country is primary care at the peripheral level, preventive measures, immunisation, maternity and paediatric care as well as dealing with common infections such as tuberculosis. Public health centres and community health centres are the usual providers of these services. However, not enough hospital beds and specialised facilities have been provided by the public sector during this time.\n\nHospital-population ratio and the hospital bed-population ratio are good metrics indicating healthcare infrastructure. The World Health Organization provides the rationale behind the hospital beds to population ratio: \u201cHospital beds are used to indicate the availability of inpatient services. There is no global norm for the density of hospital beds in relation to total population\u201d. As there is no global norm to follow, every country, state and district must build the necessary infrastructure on a case-by-case basis, based on metrics like population, last mile reach. With COVID 19 into the mix, the ratio of population to the number of testing centres has emerged as a new metric to understand how equipped states are dealing with the COVID-19 crisis. Also apparent is the disparateness between rural hospitals/beds and urban hospitals/beds vis-\u00e0-vis the population. All this results in a mixed level of public health service in India.\n\n### 1.1 Aim\n\nPublic health infrastructure of a country must be equipped to treat its people. This project aims to visualize healthcare infrastructure data of the state containing the highest number of COVID cases as of now, to illustrate why it is necessary to overhaul the public healthcare in India. \n\n### 1.2 Stakeholders\nIn general, each and every one of us is a stakeholder in a discussion on healthcare. However, to be more specific, such analysis and visualizations can help administrators and law-makers explore options on how to make healthcare available and affordable to everyone at the national, state and district levels.\n"
        },
        {
            "cell_type": "markdown",
            "metadata": {},
            "source": "## 2. Data"
        },
        {
            "attachments": {},
            "cell_type": "markdown",
            "metadata": {},
            "source": "### 2.1 Data sources\n\nThe data to be used is summarised below:\n1.\tStatewise COVID-19 data is available at the Ministry of Health and Family Welfare website rendered into a csv file. It is a public dataset available to all.\n2.\tCensus data, nation-wide hospital data and ICMR (Indian Council of Medical Research) labs are available from Kaggle. These are also public datasets as indicated by the creator. These datasets will be primarily used to visualize the status of healthcare infrastructure in India.\n3.\tPincode data with corresponding latitude and longitude is available from Kaggle. It is required to create a database of ICMR labs with respect to their locations. This is also a public dataset.\n4.\tFoursquare API can be leveraged to get a closer look at hospitals within the state containing highest number of COVID19 cases.\n5.  Folium based maps will be used to visualize the data geospatially.\n\n### 2.2 Data description and cleaning\n\nThe dataset containing COVID-19 patients per state contains the name of the state, the number of active cases, the number of discharged patients, the number of deaths and the total number of cases (which is the aggregate of \u2018active\u2019, \u2018discharged\u2019 and \u2018death\u2019 columns). Firstly, the \u2018NaN\u2019 have been identified and removed. Two rows in this dataset contain only NaN values and so have been dropped. The \u2018S.no.\u2019  column is redundant and can be dropped. The shape of the dataframe shows 36 values, which corresponds to the total of states and union territories. Finally, the columns are renamed as follows:\n\nThe healthcare data contains the name of the state, and the numbers of primary healthcare centres (PHC), community healthcare centres (CHC), sub district hospitals (SDH), total public health facilities (TPHF), district hospitals (DH), rural hospitals (RH), urban hospitals (UH), the total number of public beds (PublicBeds), the number of rural beds (RuralBeds) and the number of urban beds (UrbanBeds). The original column names have been changed to those in brackets. For the purpose of this study, the columns of PHC, CHC, TPHF have been dropped as they do not have specialised facilities meant to deal with a crisis such as COVID 19. This is not to suggest that such places are not contributing in dealing with the crisis. Their primary capability includes basic healthcare, prevention and educating the public. Second, the column \u2018SDH\u2019 have to be dropped as there were missing values. Third, the column \u2018DH\u2019 also has been dropped as the main aim is to compare the numbers of rural and urban hospitals. DH can be categorised under either category and so complicate the analysis.\n\nThe ICMR data contains the names of the labs, their full addresses, pincodes, cities, states and the type of institution. The columns containing addresses have been dropped as pincode, city and state are enough. The column containing \u2018type\u2019 has been dropped as the entire list is of ICMR labs. Out of the 170 rows, 2 rows are missing this data. They have been dropped as well.\n\nThe dataset containing pincodes has the pincodes in relation to the name of the place, the city, latitude, longitude and accuracy. Excepting the pincodes, latitude and longitude, all other columns have been dropped.\n\nThe final dataframe is a merged dataset of the cleaned datasets.\n\nApart from this, Foursquare API has been used to get the location of hospitals in the concerned \u2018State/UT\u2019 for analysis."
        },
        {
            "cell_type": "code",
            "execution_count": null,
            "metadata": {},
            "outputs": [],
            "source": ""
        }
    ],
    "metadata": {
        "kernelspec": {
            "display_name": "Python 3.6",
            "language": "python",
            "name": "python3"
        },
        "language_info": {
            "codemirror_mode": {
                "name": "ipython",
                "version": 3
            },
            "file_extension": ".py",
            "mimetype": "text/x-python",
            "name": "python",
            "nbconvert_exporter": "python",
            "pygments_lexer": "ipython3",
            "version": "3.6.9"
        }
    },
    "nbformat": 4,
    "nbformat_minor": 1
}