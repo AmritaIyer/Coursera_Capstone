{
    "cells": [
        {
            "cell_type": "markdown",
            "metadata": {
                "collapsed": true
            },
            "source": "# Geospatial Study of COVID-19 vis-\u00e0-vis Medical Care in India"
        },
        {
            "cell_type": "markdown",
            "metadata": {},
            "source": "### By Amrita Iyer"
        },
        {
            "cell_type": "markdown",
            "metadata": {},
            "source": "## 1. Introduction"
        },
        {
            "cell_type": "markdown",
            "metadata": {},
            "source": "On 30 January, WHO declared COVID-19 a Public Health Emergency of International Concern (PHEIC). India is the second most populous country of the world. According to the 2019 revision of the World Population Prospects, India's population has crossed 1.3 billion.\n\nThis population is spread out in 29 states and 7 union territories. Healthcare is a state subject, which means that states are free to cater to their people\u2019s needs as they see fit, on a case-by-case basis. Since Independence, India has focused on the larger picture. The priority in a developing country is primary care at the peripheral level, preventive measures, immunisation, maternity and paediatric care as well as dealing with common infections such as tuberculosis. Public health centres and community health centres are the usual providers of these services. However, not enough hospital beds and specialised facilities have been provided by the public sector during this time.\n\nHospital-population ratio and the hospital bed-population ratio are good metrics indicating healthcare infrastructure. The World Health Organization provides the rationale behind the hospital beds to population ratio: \u201cHospital beds are used to indicate the availability of inpatient services. There is no global norm for the density of hospital beds in relation to total population\u201d. As there is no global norm to follow, every country, state and district must build the necessary infrastructure on a case-by-case basis, based on metrics like population, last mile reach. With COVID 19 into the mix, the ratio of population to the number of testing centres has emerged as a new metric to understand how equipped states are dealing with the COVID-19 crisis. Also apparent is the disparateness between rural hospitals/beds and urban hospitals/beds vis-\u00e0-vis the population. All this results in a mixed level of public health service in India.\n\n### 1.1 Aim\n\nPublic health infrastructure of a country must be equipped to treat its people. This project aims to visualize healthcare infrastructure data of the state containing the highest number of COVID cases as of now, to illustrate why it is necessary to overhaul the public healthcare in India. \n\n### 1.2 Stakeholders\nIn general, each and every one of us is a stakeholder in a discussion on healthcare. However, to be more specific, such analysis and visualizations can help administrators and law-makers explore options on how to make healthcare available and affordable to everyone at the national, state and district levels."
        },
        {
            "cell_type": "markdown",
            "metadata": {},
            "source": ""
        }
    ],
    "metadata": {
        "kernelspec": {
            "display_name": "Python 3.6",
            "language": "python",
            "name": "python3"
        },
        "language_info": {
            "codemirror_mode": {
                "name": "ipython",
                "version": 3
            },
            "file_extension": ".py",
            "mimetype": "text/x-python",
            "name": "python",
            "nbconvert_exporter": "python",
            "pygments_lexer": "ipython3",
            "version": "3.6.9"
        }
    },
    "nbformat": 4,
    "nbformat_minor": 1
}